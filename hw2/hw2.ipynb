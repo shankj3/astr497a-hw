{
 "cells": [
  {
   "cell_type": "markdown",
   "metadata": {},
   "source": [
    "# Homework 2\n",
    "\n",
    "Due: March 11<sup>th</sup>, 2015 (via pull request).\n",
    "\n",
    "## Problem 1: The Field of Streams\n",
    "\n",
    "Using the data from the SDSS catalog, and Python tools (e.g., matplotlib, numpy), make the analog of [Belokurov et al. 2006](http://iopscience.iop.org/1538-4357/642/2/L137/pdf/20450.web.pdf) \"Field of streams\" figure (Figure 1 in the paper):  \n",
    "\n",
    "<img src=\"Belokurov+2006-Fig1.jpg\" width=\"100%\">\n",
    "\n",
    "encompassing all DR12 data. Specifically:\n",
    "* Write a query (either SQL or for LSD) to select stars satisfying the $g-r < 0.4$ color selection criterion (see Section 2 of Belokurov et al. 2006). You're free to either run this query against the [CasJobs SDSS database](http://skyserver.sdss.org/casjobs/), or the LSD copy of the database (see [here](http://nbviewer.ipython.org/github/mjuric/ast597b/blob/master/lectures/2015-02-02-lsd/lecture5.ipynb#Fetching-from-remote-LSD-servers) for notes on SDSS-in-LSD).\n",
    "* Write Python code to divide the stars into the three r-band magnitude bins (see the paper and/or the figure caption for magnitude bin specification), and bin them into 0.5 deg x 0.5 deg pixels. You may find [numpy.histogram2d](http://docs.scipy.org/doc/numpy/reference/generated/numpy.histogram2d.html) helpful.\n",
    "* Use [matplotlib.imshow](http://matplotlib.org/api/pyplot_api.html#matplotlib.pyplot.imshow) (or any other *Python* library of your choice) to create an RGB color composite equivalent of Figure 1. from the paper (see the figure caption for details)"
   ]
  },
  {
   "cell_type": "code",
   "execution_count": null,
   "metadata": {
    "collapsed": false
   },
   "outputs": [],
   "source": []
  }
 ],
 "metadata": {
  "kernelspec": {
   "display_name": "Python 2",
   "language": "python",
   "name": "python2"
  },
  "language_info": {
   "codemirror_mode": {
    "name": "ipython",
    "version": 2
   },
   "file_extension": ".py",
   "mimetype": "text/x-python",
   "name": "python",
   "nbconvert_exporter": "python",
   "pygments_lexer": "ipython2",
   "version": "2.7.9"
  }
 },
 "nbformat": 4,
 "nbformat_minor": 0
}
